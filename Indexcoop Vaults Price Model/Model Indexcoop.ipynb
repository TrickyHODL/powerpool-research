{
 "cells": [
  {
   "cell_type": "markdown",
   "metadata": {},
   "source": [
    "# Indexcoop Vaults Price Model Formules"
   ]
  },
  {
   "cell_type": "markdown",
   "metadata": {},
   "source": [
    "Definitions\n",
    "Borrow Rate — the cost to borrow the asset at the DeFi Lending Protocol over the most recent epoch.\n",
    "Epoch Length — the time between rebalances.\n",
    "Target Leverage Ratio (TLR) — the long term target for the value of the assets held by the index divided by the net asset value of the index.\n",
    "Current Leverage Ratio (CLR) — the value of the asset currently held by the index divided by the current net asset value of the index.\n",
    "Maximum Leverage Ratio (MAXLR) — the highest leverage ratio the index will ever have after a rebalance.\n",
    "Minimum Leverage Ratio (MINLR) — the lowest leverage ratio the index will ever have after a rebalance.\n",
    "Re-centering Speed (RS) — the rate at which the Current Leverage Ratio is adjusted each period to return to the Target Leverage Ratio, when the index is not being adjusted back to the Maximum Leverage Ratio or the Minimum Leverage Ratio.\n",
    "Index Price:\n",
    "FLIt = FLIt-1 * (1 + (Pricet/Pricet-1–1) * CLRt-1 – BorrowRatet * (CLRt-1 – 1))\n",
    "\n",
    "For the inverse indices the CLR in above formula is the value of the debt held by the index dividend by the current net asset value of the index (i.e. -1 if at target leverage).\n",
    "\n",
    "Calculation of the new Current Leverage Ratio for the period:\n",
    "CLRt+1 = max(MINLR, min(MAXLR, CLRt * (1 – RS) + TLR * RS))"
   ]
  },
  {
   "cell_type": "markdown",
   "metadata": {},
   "source": [
    "https://gov.indexcoop.com/t/iip-xx-launch-imatic-ieth-btc2x-ibtc-flis-on-polygon/3478"
   ]
  },
  {
   "cell_type": "code",
   "execution_count": 3,
   "metadata": {},
   "outputs": [],
   "source": [
    "#Init\n",
    "n=6*10# Number of periods of rebalance\n",
    "clr0 = 1.5#Current Leverage Ratio\n",
    "flt0=1#Cost of Index\n",
    "tlr = 2#Target Leverage Ratio\n",
    "maxlr =3#Maximum Leverage Ratio\n",
    "minlr=1 #Minimum Leverage Ratio \n",
    "rs = 0.025 # Re-centering Speed =2,5%\n",
    "el = 4#Epoch Length = 4 hour\n",
    "borrow = [0.01]*n# rate of borrow for year 0.1=10%=36,5/365\n",
    "arr_clr =[clr0]#calculate (historical) datas of Current Leverage Ratio\n",
    "arr_flt =[flt0]\n",
    "price = [1.2]#hostorical price of matic (borrow token)"
   ]
  },
  {
   "cell_type": "code",
   "execution_count": 4,
   "metadata": {},
   "outputs": [],
   "source": [
    "def clr_next_step(minlr, maxlr, rs, tlr, arr_clr, step):\n",
    "    return max(minlr, min(maxlr, (arr_clr[step]*(1-rs)+tlr*rs)))\n",
    "    "
   ]
  },
  {
   "cell_type": "code",
   "execution_count": 5,
   "metadata": {},
   "outputs": [],
   "source": [
    "#fill in array of clr\n",
    "\n",
    "for step in range(0, n):\n",
    "    arr_clr. append(clr_next_step(minlr, maxlr, rs, tlr, arr_clr, step))\n",
    "#print(arr_clr)"
   ]
  },
  {
   "cell_type": "code",
   "execution_count": 6,
   "metadata": {},
   "outputs": [],
   "source": [
    "delta=0.01\n",
    "price = [1.2]\n",
    "for i in range(0,n):\n",
    "    price.append(price[i]+delta)\n",
    "#print(price)"
   ]
  },
  {
   "cell_type": "code",
   "execution_count": 7,
   "metadata": {},
   "outputs": [],
   "source": [
    "flt=flt0\n",
    "arr_flt =[flt0]\n",
    "for step in range(1,len(arr_clr)-1):\n",
    "    #print(flt, price[step],arr_clr[step-1],borrow[step])\n",
    "    flt = flt*(1+(price[step]/price[step-1]-1)*arr_clr[step-1] - borrow[step] * (arr_clr[step-1]-1))\n",
    "    arr_flt.append(flt)\n",
    "#print(arr_flt)"
   ]
  },
  {
   "cell_type": "markdown",
   "metadata": {},
   "source": [
    "Index Price:\n",
    "FLIt = FLIt-1 * (1 + (Pricet/Pricet-1–1) * CLRt-1 – BorrowRatet * (CLRt-1 – 1))"
   ]
  },
  {
   "cell_type": "code",
   "execution_count": null,
   "metadata": {},
   "outputs": [],
   "source": []
  },
  {
   "cell_type": "code",
   "execution_count": null,
   "metadata": {},
   "outputs": [],
   "source": []
  },
  {
   "cell_type": "code",
   "execution_count": null,
   "metadata": {},
   "outputs": [],
   "source": []
  },
  {
   "cell_type": "code",
   "execution_count": null,
   "metadata": {},
   "outputs": [],
   "source": []
  }
 ],
 "metadata": {
  "kernelspec": {
   "display_name": "Python 3",
   "language": "python",
   "name": "python3"
  },
  "language_info": {
   "codemirror_mode": {
    "name": "ipython",
    "version": 3
   },
   "file_extension": ".py",
   "mimetype": "text/x-python",
   "name": "python",
   "nbconvert_exporter": "python",
   "pygments_lexer": "ipython3",
   "version": "3.8.5"
  }
 },
 "nbformat": 4,
 "nbformat_minor": 4
}
