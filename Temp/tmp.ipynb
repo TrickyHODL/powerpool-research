{
 "cells": [
  {
   "cell_type": "markdown",
   "metadata": {},
   "source": [
    "Expected Liquidity ($EL$):\n",
    "\n",
    "$$\n",
    "EL_t = EL_{t-1} + B_{t-1} \\times r_{t-1} \\times \\Delta t\n",
    "$$"
   ]
  },
  {
   "cell_type": "markdown",
   "metadata": {},
   "source": [
    "Cumulative Index ($CI$):\n",
    "\n",
    "$$\n",
    "CI_t = CI_{t-1}(1 + r_{t-1} \\times \\Delta t)\n",
    "$$"
   ]
  },
  {
   "cell_type": "markdown",
   "metadata": {},
   "source": []
  }
 ],
 "metadata": {
  "language_info": {
   "name": "python"
  },
  "orig_nbformat": 4
 },
 "nbformat": 4,
 "nbformat_minor": 2
}
